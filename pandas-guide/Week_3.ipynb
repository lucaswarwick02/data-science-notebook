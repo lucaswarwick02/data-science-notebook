{
 "cells": [
  {
   "cell_type": "markdown",
   "metadata": {
    "collapsed": true,
    "pycharm": {
     "name": "#%% md\n"
    }
   },
   "source": [
    "# Lesson 3\n",
    "* Indexes\n",
    "* Joins\n",
    "* Concatenations\n",
    "# Setup"
   ]
  },
  {
   "cell_type": "code",
   "execution_count": 2,
   "outputs": [],
   "source": [
    "import pandas as pd\n",
    "import numpy as np\n",
    "import matplotlib.pyplot as plt\n",
    "import seaborn"
   ],
   "metadata": {
    "collapsed": false,
    "pycharm": {
     "name": "#%%\n"
    }
   }
  },
  {
   "cell_type": "markdown",
   "source": [
    "# Data\n",
    "## Indexes"
   ],
   "metadata": {
    "collapsed": false,
    "pycharm": {
     "name": "#%% md\n"
    }
   }
  },
  {
   "cell_type": "code",
   "execution_count": 3,
   "outputs": [
    {
     "data": {
      "text/plain": "     Name   Surname\n0  Walter     White\n1    Hank  Schrader\n2   Jesse   Pinkman\n3    Saul   Goodman",
      "text/html": "<div>\n<style scoped>\n    .dataframe tbody tr th:only-of-type {\n        vertical-align: middle;\n    }\n\n    .dataframe tbody tr th {\n        vertical-align: top;\n    }\n\n    .dataframe thead th {\n        text-align: right;\n    }\n</style>\n<table border=\"1\" class=\"dataframe\">\n  <thead>\n    <tr style=\"text-align: right;\">\n      <th></th>\n      <th>Name</th>\n      <th>Surname</th>\n    </tr>\n  </thead>\n  <tbody>\n    <tr>\n      <th>0</th>\n      <td>Walter</td>\n      <td>White</td>\n    </tr>\n    <tr>\n      <th>1</th>\n      <td>Hank</td>\n      <td>Schrader</td>\n    </tr>\n    <tr>\n      <th>2</th>\n      <td>Jesse</td>\n      <td>Pinkman</td>\n    </tr>\n    <tr>\n      <th>3</th>\n      <td>Saul</td>\n      <td>Goodman</td>\n    </tr>\n  </tbody>\n</table>\n</div>"
     },
     "execution_count": 3,
     "metadata": {},
     "output_type": "execute_result"
    }
   ],
   "source": [
    "# Indexes are the margin names of rows and columns\n",
    "df1 = pd.DataFrame([\n",
    "    {'Name': 'Walter', 'Surname': 'White'},\n",
    "    {'Name': 'Hank', 'Surname': 'Schrader'},\n",
    "    {'Name': 'Jesse', 'Surname': 'Pinkman'},\n",
    "    {'Name': 'Saul', 'Surname': 'Goodman'}\n",
    "])\n",
    "df1"
   ],
   "metadata": {
    "collapsed": false,
    "pycharm": {
     "name": "#%%\n"
    }
   }
  },
  {
   "cell_type": "markdown",
   "source": [
    "### Set"
   ],
   "metadata": {
    "collapsed": false,
    "pycharm": {
     "name": "#%% md\n"
    }
   }
  },
  {
   "cell_type": "code",
   "execution_count": 4,
   "outputs": [
    {
     "data": {
      "text/plain": "         Surname\nName            \nWalter     White\nHank    Schrader\nJesse    Pinkman\nSaul     Goodman",
      "text/html": "<div>\n<style scoped>\n    .dataframe tbody tr th:only-of-type {\n        vertical-align: middle;\n    }\n\n    .dataframe tbody tr th {\n        vertical-align: top;\n    }\n\n    .dataframe thead th {\n        text-align: right;\n    }\n</style>\n<table border=\"1\" class=\"dataframe\">\n  <thead>\n    <tr style=\"text-align: right;\">\n      <th></th>\n      <th>Surname</th>\n    </tr>\n    <tr>\n      <th>Name</th>\n      <th></th>\n    </tr>\n  </thead>\n  <tbody>\n    <tr>\n      <th>Walter</th>\n      <td>White</td>\n    </tr>\n    <tr>\n      <th>Hank</th>\n      <td>Schrader</td>\n    </tr>\n    <tr>\n      <th>Jesse</th>\n      <td>Pinkman</td>\n    </tr>\n    <tr>\n      <th>Saul</th>\n      <td>Goodman</td>\n    </tr>\n  </tbody>\n</table>\n</div>"
     },
     "execution_count": 4,
     "metadata": {},
     "output_type": "execute_result"
    }
   ],
   "source": [
    "# We can set the index\n",
    "df1.set_index('Name')"
   ],
   "metadata": {
    "collapsed": false,
    "pycharm": {
     "name": "#%%\n"
    }
   }
  },
  {
   "cell_type": "code",
   "execution_count": 5,
   "outputs": [
    {
     "data": {
      "text/plain": "Empty DataFrame\nColumns: []\nIndex: [(Walter, White), (Hank, Schrader), (Jesse, Pinkman), (Saul, Goodman)]",
      "text/html": "<div>\n<style scoped>\n    .dataframe tbody tr th:only-of-type {\n        vertical-align: middle;\n    }\n\n    .dataframe tbody tr th {\n        vertical-align: top;\n    }\n\n    .dataframe thead th {\n        text-align: right;\n    }\n</style>\n<table border=\"1\" class=\"dataframe\">\n  <thead>\n    <tr style=\"text-align: right;\">\n      <th></th>\n      <th></th>\n    </tr>\n    <tr>\n      <th>Name</th>\n      <th>Surname</th>\n    </tr>\n  </thead>\n  <tbody>\n    <tr>\n      <th>Walter</th>\n      <th>White</th>\n    </tr>\n    <tr>\n      <th>Hank</th>\n      <th>Schrader</th>\n    </tr>\n    <tr>\n      <th>Jesse</th>\n      <th>Pinkman</th>\n    </tr>\n    <tr>\n      <th>Saul</th>\n      <th>Goodman</th>\n    </tr>\n  </tbody>\n</table>\n</div>"
     },
     "execution_count": 5,
     "metadata": {},
     "output_type": "execute_result"
    }
   ],
   "source": [
    "# We can make multi-indexes\n",
    "df1.set_index(['Name', 'Surname'])"
   ],
   "metadata": {
    "collapsed": false,
    "pycharm": {
     "name": "#%%\n"
    }
   }
  },
  {
   "cell_type": "markdown",
   "source": [
    "### Reset"
   ],
   "metadata": {
    "collapsed": false,
    "pycharm": {
     "name": "#%% md\n"
    }
   }
  },
  {
   "cell_type": "code",
   "execution_count": 6,
   "outputs": [
    {
     "data": {
      "text/plain": "   index    Name   Surname\n0      0  Walter     White\n1      1    Hank  Schrader\n2      2   Jesse   Pinkman\n3      3    Saul   Goodman",
      "text/html": "<div>\n<style scoped>\n    .dataframe tbody tr th:only-of-type {\n        vertical-align: middle;\n    }\n\n    .dataframe tbody tr th {\n        vertical-align: top;\n    }\n\n    .dataframe thead th {\n        text-align: right;\n    }\n</style>\n<table border=\"1\" class=\"dataframe\">\n  <thead>\n    <tr style=\"text-align: right;\">\n      <th></th>\n      <th>index</th>\n      <th>Name</th>\n      <th>Surname</th>\n    </tr>\n  </thead>\n  <tbody>\n    <tr>\n      <th>0</th>\n      <td>0</td>\n      <td>Walter</td>\n      <td>White</td>\n    </tr>\n    <tr>\n      <th>1</th>\n      <td>1</td>\n      <td>Hank</td>\n      <td>Schrader</td>\n    </tr>\n    <tr>\n      <th>2</th>\n      <td>2</td>\n      <td>Jesse</td>\n      <td>Pinkman</td>\n    </tr>\n    <tr>\n      <th>3</th>\n      <td>3</td>\n      <td>Saul</td>\n      <td>Goodman</td>\n    </tr>\n  </tbody>\n</table>\n</div>"
     },
     "execution_count": 6,
     "metadata": {},
     "output_type": "execute_result"
    }
   ],
   "source": [
    "df1.reset_index()"
   ],
   "metadata": {
    "collapsed": false,
    "pycharm": {
     "name": "#%%\n"
    }
   }
  },
  {
   "cell_type": "code",
   "execution_count": 7,
   "outputs": [
    {
     "data": {
      "text/plain": "     Name   Surname\n0  Walter     White\n1    Hank  Schrader\n2   Jesse   Pinkman\n3    Saul   Goodman",
      "text/html": "<div>\n<style scoped>\n    .dataframe tbody tr th:only-of-type {\n        vertical-align: middle;\n    }\n\n    .dataframe tbody tr th {\n        vertical-align: top;\n    }\n\n    .dataframe thead th {\n        text-align: right;\n    }\n</style>\n<table border=\"1\" class=\"dataframe\">\n  <thead>\n    <tr style=\"text-align: right;\">\n      <th></th>\n      <th>Name</th>\n      <th>Surname</th>\n    </tr>\n  </thead>\n  <tbody>\n    <tr>\n      <th>0</th>\n      <td>Walter</td>\n      <td>White</td>\n    </tr>\n    <tr>\n      <th>1</th>\n      <td>Hank</td>\n      <td>Schrader</td>\n    </tr>\n    <tr>\n      <th>2</th>\n      <td>Jesse</td>\n      <td>Pinkman</td>\n    </tr>\n    <tr>\n      <th>3</th>\n      <td>Saul</td>\n      <td>Goodman</td>\n    </tr>\n  </tbody>\n</table>\n</div>"
     },
     "execution_count": 7,
     "metadata": {},
     "output_type": "execute_result"
    }
   ],
   "source": [
    "df1.reset_index(drop=True)"
   ],
   "metadata": {
    "collapsed": false,
    "pycharm": {
     "name": "#%%\n"
    }
   }
  },
  {
   "cell_type": "markdown",
   "source": [
    "## Join\n",
    "* Construct two data frames\n",
    "* Join & Concat"
   ],
   "metadata": {
    "collapsed": false,
    "pycharm": {
     "name": "#%% md\n"
    }
   }
  },
  {
   "cell_type": "code",
   "execution_count": 8,
   "outputs": [
    {
     "data": {
      "text/plain": "     Name\n0  Walter\n1    Hank\n2   Jesse\n3    Saul",
      "text/html": "<div>\n<style scoped>\n    .dataframe tbody tr th:only-of-type {\n        vertical-align: middle;\n    }\n\n    .dataframe tbody tr th {\n        vertical-align: top;\n    }\n\n    .dataframe thead th {\n        text-align: right;\n    }\n</style>\n<table border=\"1\" class=\"dataframe\">\n  <thead>\n    <tr style=\"text-align: right;\">\n      <th></th>\n      <th>Name</th>\n    </tr>\n  </thead>\n  <tbody>\n    <tr>\n      <th>0</th>\n      <td>Walter</td>\n    </tr>\n    <tr>\n      <th>1</th>\n      <td>Hank</td>\n    </tr>\n    <tr>\n      <th>2</th>\n      <td>Jesse</td>\n    </tr>\n    <tr>\n      <th>3</th>\n      <td>Saul</td>\n    </tr>\n  </tbody>\n</table>\n</div>"
     },
     "execution_count": 8,
     "metadata": {},
     "output_type": "execute_result"
    }
   ],
   "source": [
    "df1 = pd.DataFrame([\n",
    "    {'Name': 'Walter'},\n",
    "    {'Name': 'Hank'},\n",
    "    {'Name': 'Jesse'},\n",
    "    {'Name': 'Saul'}\n",
    "])\n",
    "df1"
   ],
   "metadata": {
    "collapsed": false,
    "pycharm": {
     "name": "#%%\n"
    }
   }
  },
  {
   "cell_type": "code",
   "execution_count": 9,
   "outputs": [
    {
     "data": {
      "text/plain": "    Surname\n0     White\n1  Schrader\n2   Pinkman\n3   Goodman",
      "text/html": "<div>\n<style scoped>\n    .dataframe tbody tr th:only-of-type {\n        vertical-align: middle;\n    }\n\n    .dataframe tbody tr th {\n        vertical-align: top;\n    }\n\n    .dataframe thead th {\n        text-align: right;\n    }\n</style>\n<table border=\"1\" class=\"dataframe\">\n  <thead>\n    <tr style=\"text-align: right;\">\n      <th></th>\n      <th>Surname</th>\n    </tr>\n  </thead>\n  <tbody>\n    <tr>\n      <th>0</th>\n      <td>White</td>\n    </tr>\n    <tr>\n      <th>1</th>\n      <td>Schrader</td>\n    </tr>\n    <tr>\n      <th>2</th>\n      <td>Pinkman</td>\n    </tr>\n    <tr>\n      <th>3</th>\n      <td>Goodman</td>\n    </tr>\n  </tbody>\n</table>\n</div>"
     },
     "execution_count": 9,
     "metadata": {},
     "output_type": "execute_result"
    }
   ],
   "source": [
    "df2 = pd.DataFrame([\n",
    "    {'Surname': 'White'},\n",
    "    {'Surname': 'Schrader'},\n",
    "    {'Surname': 'Pinkman'},\n",
    "    {'Surname': 'Goodman'}\n",
    "])\n",
    "df2"
   ],
   "metadata": {
    "collapsed": false,
    "pycharm": {
     "name": "#%%\n"
    }
   }
  },
  {
   "cell_type": "markdown",
   "source": [
    "### Join\n",
    "* Match up rows and put frames together"
   ],
   "metadata": {
    "collapsed": false,
    "pycharm": {
     "name": "#%% md\n"
    }
   }
  },
  {
   "cell_type": "code",
   "execution_count": 10,
   "outputs": [
    {
     "data": {
      "text/plain": "     Name   Surname\n0  Walter     White\n1    Hank  Schrader\n2   Jesse   Pinkman\n3    Saul   Goodman",
      "text/html": "<div>\n<style scoped>\n    .dataframe tbody tr th:only-of-type {\n        vertical-align: middle;\n    }\n\n    .dataframe tbody tr th {\n        vertical-align: top;\n    }\n\n    .dataframe thead th {\n        text-align: right;\n    }\n</style>\n<table border=\"1\" class=\"dataframe\">\n  <thead>\n    <tr style=\"text-align: right;\">\n      <th></th>\n      <th>Name</th>\n      <th>Surname</th>\n    </tr>\n  </thead>\n  <tbody>\n    <tr>\n      <th>0</th>\n      <td>Walter</td>\n      <td>White</td>\n    </tr>\n    <tr>\n      <th>1</th>\n      <td>Hank</td>\n      <td>Schrader</td>\n    </tr>\n    <tr>\n      <th>2</th>\n      <td>Jesse</td>\n      <td>Pinkman</td>\n    </tr>\n    <tr>\n      <th>3</th>\n      <td>Saul</td>\n      <td>Goodman</td>\n    </tr>\n  </tbody>\n</table>\n</div>"
     },
     "execution_count": 10,
     "metadata": {},
     "output_type": "execute_result"
    }
   ],
   "source": [
    "# Use the data frame to join to another\n",
    "# Join uses the index\n",
    "df1.join(df2)"
   ],
   "metadata": {
    "collapsed": false,
    "pycharm": {
     "name": "#%%\n"
    }
   }
  },
  {
   "cell_type": "markdown",
   "source": [
    "### Index vs Column"
   ],
   "metadata": {
    "collapsed": false,
    "pycharm": {
     "name": "#%% md\n"
    }
   }
  },
  {
   "cell_type": "code",
   "execution_count": 11,
   "outputs": [
    {
     "data": {
      "text/plain": "     Name   Surname              Job\n0  Walter     White     Entrepreneur\n1    Hank  Schrader  Law Enforcement\n2   Jesse   Pinkman     Entrepreneur\n3    Saul   Goodman           Lawyer",
      "text/html": "<div>\n<style scoped>\n    .dataframe tbody tr th:only-of-type {\n        vertical-align: middle;\n    }\n\n    .dataframe tbody tr th {\n        vertical-align: top;\n    }\n\n    .dataframe thead th {\n        text-align: right;\n    }\n</style>\n<table border=\"1\" class=\"dataframe\">\n  <thead>\n    <tr style=\"text-align: right;\">\n      <th></th>\n      <th>Name</th>\n      <th>Surname</th>\n      <th>Job</th>\n    </tr>\n  </thead>\n  <tbody>\n    <tr>\n      <th>0</th>\n      <td>Walter</td>\n      <td>White</td>\n      <td>Entrepreneur</td>\n    </tr>\n    <tr>\n      <th>1</th>\n      <td>Hank</td>\n      <td>Schrader</td>\n      <td>Law Enforcement</td>\n    </tr>\n    <tr>\n      <th>2</th>\n      <td>Jesse</td>\n      <td>Pinkman</td>\n      <td>Entrepreneur</td>\n    </tr>\n    <tr>\n      <th>3</th>\n      <td>Saul</td>\n      <td>Goodman</td>\n      <td>Lawyer</td>\n    </tr>\n  </tbody>\n</table>\n</div>"
     },
     "execution_count": 11,
     "metadata": {},
     "output_type": "execute_result"
    }
   ],
   "source": [
    "df1 = pd.DataFrame([\n",
    "    {'Name': 'Walter', 'Surname': 'White', 'Job': 'Entrepreneur'},\n",
    "    {'Name': 'Hank', 'Surname': 'Schrader', 'Job': 'Law Enforcement'},\n",
    "    {'Name': 'Jesse', 'Surname': 'Pinkman', 'Job': 'Entrepreneur'},\n",
    "    {'Name': 'Saul', 'Surname': 'Goodman', 'Job': 'Lawyer'}\n",
    "])\n",
    "df1"
   ],
   "metadata": {
    "collapsed": false,
    "pycharm": {
     "name": "#%%\n"
    }
   }
  },
  {
   "cell_type": "code",
   "execution_count": 12,
   "outputs": [
    {
     "data": {
      "text/plain": "               Job      Pay\n0     Entrepreneur  1000000\n1  Law Enforcement    75000\n2           Lawyer   250000\n3          Teacher    50000",
      "text/html": "<div>\n<style scoped>\n    .dataframe tbody tr th:only-of-type {\n        vertical-align: middle;\n    }\n\n    .dataframe tbody tr th {\n        vertical-align: top;\n    }\n\n    .dataframe thead th {\n        text-align: right;\n    }\n</style>\n<table border=\"1\" class=\"dataframe\">\n  <thead>\n    <tr style=\"text-align: right;\">\n      <th></th>\n      <th>Job</th>\n      <th>Pay</th>\n    </tr>\n  </thead>\n  <tbody>\n    <tr>\n      <th>0</th>\n      <td>Entrepreneur</td>\n      <td>1000000</td>\n    </tr>\n    <tr>\n      <th>1</th>\n      <td>Law Enforcement</td>\n      <td>75000</td>\n    </tr>\n    <tr>\n      <th>2</th>\n      <td>Lawyer</td>\n      <td>250000</td>\n    </tr>\n    <tr>\n      <th>3</th>\n      <td>Teacher</td>\n      <td>50000</td>\n    </tr>\n  </tbody>\n</table>\n</div>"
     },
     "execution_count": 12,
     "metadata": {},
     "output_type": "execute_result"
    }
   ],
   "source": [
    "df2 = pd.DataFrame([\n",
    "    {'Job': 'Entrepreneur',     'Pay': 1_000_000},\n",
    "    {'Job': 'Law Enforcement',  'Pay': 75_000},\n",
    "    {'Job': 'Lawyer',           'Pay': 250_000},\n",
    "    {'Job': 'Teacher',          'Pay': 50_000}\n",
    "])\n",
    "df2"
   ],
   "metadata": {
    "collapsed": false,
    "pycharm": {
     "name": "#%%\n"
    }
   }
  },
  {
   "cell_type": "code",
   "execution_count": 13,
   "outputs": [
    {
     "ename": "ValueError",
     "evalue": "columns overlap but no suffix specified: Index(['Job'], dtype='object')",
     "output_type": "error",
     "traceback": [
      "\u001B[1;31m---------------------------------------------------------------------------\u001B[0m",
      "\u001B[1;31mValueError\u001B[0m                                Traceback (most recent call last)",
      "Input \u001B[1;32mIn [13]\u001B[0m, in \u001B[0;36m<cell line: 2>\u001B[1;34m()\u001B[0m\n\u001B[0;32m      1\u001B[0m \u001B[38;5;66;03m# Cant join - there's a column the same\u001B[39;00m\n\u001B[1;32m----> 2\u001B[0m \u001B[43mdf1\u001B[49m\u001B[38;5;241;43m.\u001B[39;49m\u001B[43mjoin\u001B[49m\u001B[43m(\u001B[49m\u001B[43mdf2\u001B[49m\u001B[43m)\u001B[49m\n",
      "File \u001B[1;32mf:\\portfolio\\data-science-notebook\\venv\\lib\\site-packages\\pandas\\core\\frame.py:9248\u001B[0m, in \u001B[0;36mDataFrame.join\u001B[1;34m(self, other, on, how, lsuffix, rsuffix, sort)\u001B[0m\n\u001B[0;32m   9094\u001B[0m \u001B[38;5;28;01mdef\u001B[39;00m \u001B[38;5;21mjoin\u001B[39m(\n\u001B[0;32m   9095\u001B[0m     \u001B[38;5;28mself\u001B[39m,\n\u001B[0;32m   9096\u001B[0m     other: DataFrame \u001B[38;5;241m|\u001B[39m Series,\n\u001B[1;32m   (...)\u001B[0m\n\u001B[0;32m   9101\u001B[0m     sort: \u001B[38;5;28mbool\u001B[39m \u001B[38;5;241m=\u001B[39m \u001B[38;5;28;01mFalse\u001B[39;00m,\n\u001B[0;32m   9102\u001B[0m ) \u001B[38;5;241m-\u001B[39m\u001B[38;5;241m>\u001B[39m DataFrame:\n\u001B[0;32m   9103\u001B[0m     \u001B[38;5;124;03m\"\"\"\u001B[39;00m\n\u001B[0;32m   9104\u001B[0m \u001B[38;5;124;03m    Join columns of another DataFrame.\u001B[39;00m\n\u001B[0;32m   9105\u001B[0m \n\u001B[1;32m   (...)\u001B[0m\n\u001B[0;32m   9246\u001B[0m \u001B[38;5;124;03m    5  K1  A5   B1\u001B[39;00m\n\u001B[0;32m   9247\u001B[0m \u001B[38;5;124;03m    \"\"\"\u001B[39;00m\n\u001B[1;32m-> 9248\u001B[0m     \u001B[38;5;28;01mreturn\u001B[39;00m \u001B[38;5;28;43mself\u001B[39;49m\u001B[38;5;241;43m.\u001B[39;49m\u001B[43m_join_compat\u001B[49m\u001B[43m(\u001B[49m\n\u001B[0;32m   9249\u001B[0m \u001B[43m        \u001B[49m\u001B[43mother\u001B[49m\u001B[43m,\u001B[49m\u001B[43m \u001B[49m\u001B[43mon\u001B[49m\u001B[38;5;241;43m=\u001B[39;49m\u001B[43mon\u001B[49m\u001B[43m,\u001B[49m\u001B[43m \u001B[49m\u001B[43mhow\u001B[49m\u001B[38;5;241;43m=\u001B[39;49m\u001B[43mhow\u001B[49m\u001B[43m,\u001B[49m\u001B[43m \u001B[49m\u001B[43mlsuffix\u001B[49m\u001B[38;5;241;43m=\u001B[39;49m\u001B[43mlsuffix\u001B[49m\u001B[43m,\u001B[49m\u001B[43m \u001B[49m\u001B[43mrsuffix\u001B[49m\u001B[38;5;241;43m=\u001B[39;49m\u001B[43mrsuffix\u001B[49m\u001B[43m,\u001B[49m\u001B[43m \u001B[49m\u001B[43msort\u001B[49m\u001B[38;5;241;43m=\u001B[39;49m\u001B[43msort\u001B[49m\n\u001B[0;32m   9250\u001B[0m \u001B[43m    \u001B[49m\u001B[43m)\u001B[49m\n",
      "File \u001B[1;32mf:\\portfolio\\data-science-notebook\\venv\\lib\\site-packages\\pandas\\core\\frame.py:9279\u001B[0m, in \u001B[0;36mDataFrame._join_compat\u001B[1;34m(self, other, on, how, lsuffix, rsuffix, sort)\u001B[0m\n\u001B[0;32m   9270\u001B[0m     \u001B[38;5;28;01mif\u001B[39;00m how \u001B[38;5;241m==\u001B[39m \u001B[38;5;124m\"\u001B[39m\u001B[38;5;124mcross\u001B[39m\u001B[38;5;124m\"\u001B[39m:\n\u001B[0;32m   9271\u001B[0m         \u001B[38;5;28;01mreturn\u001B[39;00m merge(\n\u001B[0;32m   9272\u001B[0m             \u001B[38;5;28mself\u001B[39m,\n\u001B[0;32m   9273\u001B[0m             other,\n\u001B[1;32m   (...)\u001B[0m\n\u001B[0;32m   9277\u001B[0m             sort\u001B[38;5;241m=\u001B[39msort,\n\u001B[0;32m   9278\u001B[0m         )\n\u001B[1;32m-> 9279\u001B[0m     \u001B[38;5;28;01mreturn\u001B[39;00m \u001B[43mmerge\u001B[49m\u001B[43m(\u001B[49m\n\u001B[0;32m   9280\u001B[0m \u001B[43m        \u001B[49m\u001B[38;5;28;43mself\u001B[39;49m\u001B[43m,\u001B[49m\n\u001B[0;32m   9281\u001B[0m \u001B[43m        \u001B[49m\u001B[43mother\u001B[49m\u001B[43m,\u001B[49m\n\u001B[0;32m   9282\u001B[0m \u001B[43m        \u001B[49m\u001B[43mleft_on\u001B[49m\u001B[38;5;241;43m=\u001B[39;49m\u001B[43mon\u001B[49m\u001B[43m,\u001B[49m\n\u001B[0;32m   9283\u001B[0m \u001B[43m        \u001B[49m\u001B[43mhow\u001B[49m\u001B[38;5;241;43m=\u001B[39;49m\u001B[43mhow\u001B[49m\u001B[43m,\u001B[49m\n\u001B[0;32m   9284\u001B[0m \u001B[43m        \u001B[49m\u001B[43mleft_index\u001B[49m\u001B[38;5;241;43m=\u001B[39;49m\u001B[43mon\u001B[49m\u001B[43m \u001B[49m\u001B[38;5;129;43;01mis\u001B[39;49;00m\u001B[43m \u001B[49m\u001B[38;5;28;43;01mNone\u001B[39;49;00m\u001B[43m,\u001B[49m\n\u001B[0;32m   9285\u001B[0m \u001B[43m        \u001B[49m\u001B[43mright_index\u001B[49m\u001B[38;5;241;43m=\u001B[39;49m\u001B[38;5;28;43;01mTrue\u001B[39;49;00m\u001B[43m,\u001B[49m\n\u001B[0;32m   9286\u001B[0m \u001B[43m        \u001B[49m\u001B[43msuffixes\u001B[49m\u001B[38;5;241;43m=\u001B[39;49m\u001B[43m(\u001B[49m\u001B[43mlsuffix\u001B[49m\u001B[43m,\u001B[49m\u001B[43m \u001B[49m\u001B[43mrsuffix\u001B[49m\u001B[43m)\u001B[49m\u001B[43m,\u001B[49m\n\u001B[0;32m   9287\u001B[0m \u001B[43m        \u001B[49m\u001B[43msort\u001B[49m\u001B[38;5;241;43m=\u001B[39;49m\u001B[43msort\u001B[49m\u001B[43m,\u001B[49m\n\u001B[0;32m   9288\u001B[0m \u001B[43m    \u001B[49m\u001B[43m)\u001B[49m\n\u001B[0;32m   9289\u001B[0m \u001B[38;5;28;01melse\u001B[39;00m:\n\u001B[0;32m   9290\u001B[0m     \u001B[38;5;28;01mif\u001B[39;00m on \u001B[38;5;129;01mis\u001B[39;00m \u001B[38;5;129;01mnot\u001B[39;00m \u001B[38;5;28;01mNone\u001B[39;00m:\n",
      "File \u001B[1;32mf:\\portfolio\\data-science-notebook\\venv\\lib\\site-packages\\pandas\\core\\reshape\\merge.py:122\u001B[0m, in \u001B[0;36mmerge\u001B[1;34m(left, right, how, on, left_on, right_on, left_index, right_index, sort, suffixes, copy, indicator, validate)\u001B[0m\n\u001B[0;32m     90\u001B[0m \u001B[38;5;129m@Substitution\u001B[39m(\u001B[38;5;124m\"\u001B[39m\u001B[38;5;130;01m\\n\u001B[39;00m\u001B[38;5;124mleft : DataFrame or named Series\u001B[39m\u001B[38;5;124m\"\u001B[39m)\n\u001B[0;32m     91\u001B[0m \u001B[38;5;129m@Appender\u001B[39m(_merge_doc, indents\u001B[38;5;241m=\u001B[39m\u001B[38;5;241m0\u001B[39m)\n\u001B[0;32m     92\u001B[0m \u001B[38;5;28;01mdef\u001B[39;00m \u001B[38;5;21mmerge\u001B[39m(\n\u001B[1;32m   (...)\u001B[0m\n\u001B[0;32m    105\u001B[0m     validate: \u001B[38;5;28mstr\u001B[39m \u001B[38;5;241m|\u001B[39m \u001B[38;5;28;01mNone\u001B[39;00m \u001B[38;5;241m=\u001B[39m \u001B[38;5;28;01mNone\u001B[39;00m,\n\u001B[0;32m    106\u001B[0m ) \u001B[38;5;241m-\u001B[39m\u001B[38;5;241m>\u001B[39m DataFrame:\n\u001B[0;32m    107\u001B[0m     op \u001B[38;5;241m=\u001B[39m _MergeOperation(\n\u001B[0;32m    108\u001B[0m         left,\n\u001B[0;32m    109\u001B[0m         right,\n\u001B[1;32m   (...)\u001B[0m\n\u001B[0;32m    120\u001B[0m         validate\u001B[38;5;241m=\u001B[39mvalidate,\n\u001B[0;32m    121\u001B[0m     )\n\u001B[1;32m--> 122\u001B[0m     \u001B[38;5;28;01mreturn\u001B[39;00m \u001B[43mop\u001B[49m\u001B[38;5;241;43m.\u001B[39;49m\u001B[43mget_result\u001B[49m\u001B[43m(\u001B[49m\u001B[43m)\u001B[49m\n",
      "File \u001B[1;32mf:\\portfolio\\data-science-notebook\\venv\\lib\\site-packages\\pandas\\core\\reshape\\merge.py:718\u001B[0m, in \u001B[0;36m_MergeOperation.get_result\u001B[1;34m(self)\u001B[0m\n\u001B[0;32m    714\u001B[0m     \u001B[38;5;28mself\u001B[39m\u001B[38;5;241m.\u001B[39mleft, \u001B[38;5;28mself\u001B[39m\u001B[38;5;241m.\u001B[39mright \u001B[38;5;241m=\u001B[39m \u001B[38;5;28mself\u001B[39m\u001B[38;5;241m.\u001B[39m_indicator_pre_merge(\u001B[38;5;28mself\u001B[39m\u001B[38;5;241m.\u001B[39mleft, \u001B[38;5;28mself\u001B[39m\u001B[38;5;241m.\u001B[39mright)\n\u001B[0;32m    716\u001B[0m join_index, left_indexer, right_indexer \u001B[38;5;241m=\u001B[39m \u001B[38;5;28mself\u001B[39m\u001B[38;5;241m.\u001B[39m_get_join_info()\n\u001B[1;32m--> 718\u001B[0m llabels, rlabels \u001B[38;5;241m=\u001B[39m \u001B[43m_items_overlap_with_suffix\u001B[49m\u001B[43m(\u001B[49m\n\u001B[0;32m    719\u001B[0m \u001B[43m    \u001B[49m\u001B[38;5;28;43mself\u001B[39;49m\u001B[38;5;241;43m.\u001B[39;49m\u001B[43mleft\u001B[49m\u001B[38;5;241;43m.\u001B[39;49m\u001B[43m_info_axis\u001B[49m\u001B[43m,\u001B[49m\u001B[43m \u001B[49m\u001B[38;5;28;43mself\u001B[39;49m\u001B[38;5;241;43m.\u001B[39;49m\u001B[43mright\u001B[49m\u001B[38;5;241;43m.\u001B[39;49m\u001B[43m_info_axis\u001B[49m\u001B[43m,\u001B[49m\u001B[43m \u001B[49m\u001B[38;5;28;43mself\u001B[39;49m\u001B[38;5;241;43m.\u001B[39;49m\u001B[43msuffixes\u001B[49m\n\u001B[0;32m    720\u001B[0m \u001B[43m\u001B[49m\u001B[43m)\u001B[49m\n\u001B[0;32m    722\u001B[0m lindexers \u001B[38;5;241m=\u001B[39m {\u001B[38;5;241m1\u001B[39m: left_indexer} \u001B[38;5;28;01mif\u001B[39;00m left_indexer \u001B[38;5;129;01mis\u001B[39;00m \u001B[38;5;129;01mnot\u001B[39;00m \u001B[38;5;28;01mNone\u001B[39;00m \u001B[38;5;28;01melse\u001B[39;00m {}\n\u001B[0;32m    723\u001B[0m rindexers \u001B[38;5;241m=\u001B[39m {\u001B[38;5;241m1\u001B[39m: right_indexer} \u001B[38;5;28;01mif\u001B[39;00m right_indexer \u001B[38;5;129;01mis\u001B[39;00m \u001B[38;5;129;01mnot\u001B[39;00m \u001B[38;5;28;01mNone\u001B[39;00m \u001B[38;5;28;01melse\u001B[39;00m {}\n",
      "File \u001B[1;32mf:\\portfolio\\data-science-notebook\\venv\\lib\\site-packages\\pandas\\core\\reshape\\merge.py:2313\u001B[0m, in \u001B[0;36m_items_overlap_with_suffix\u001B[1;34m(left, right, suffixes)\u001B[0m\n\u001B[0;32m   2310\u001B[0m lsuffix, rsuffix \u001B[38;5;241m=\u001B[39m suffixes\n\u001B[0;32m   2312\u001B[0m \u001B[38;5;28;01mif\u001B[39;00m \u001B[38;5;129;01mnot\u001B[39;00m lsuffix \u001B[38;5;129;01mand\u001B[39;00m \u001B[38;5;129;01mnot\u001B[39;00m rsuffix:\n\u001B[1;32m-> 2313\u001B[0m     \u001B[38;5;28;01mraise\u001B[39;00m \u001B[38;5;167;01mValueError\u001B[39;00m(\u001B[38;5;124mf\u001B[39m\u001B[38;5;124m\"\u001B[39m\u001B[38;5;124mcolumns overlap but no suffix specified: \u001B[39m\u001B[38;5;132;01m{\u001B[39;00mto_rename\u001B[38;5;132;01m}\u001B[39;00m\u001B[38;5;124m\"\u001B[39m)\n\u001B[0;32m   2315\u001B[0m \u001B[38;5;28;01mdef\u001B[39;00m \u001B[38;5;21mrenamer\u001B[39m(x, suffix):\n\u001B[0;32m   2316\u001B[0m     \u001B[38;5;124;03m\"\"\"\u001B[39;00m\n\u001B[0;32m   2317\u001B[0m \u001B[38;5;124;03m    Rename the left and right indices.\u001B[39;00m\n\u001B[0;32m   2318\u001B[0m \n\u001B[1;32m   (...)\u001B[0m\n\u001B[0;32m   2329\u001B[0m \u001B[38;5;124;03m    x : renamed column name\u001B[39;00m\n\u001B[0;32m   2330\u001B[0m \u001B[38;5;124;03m    \"\"\"\u001B[39;00m\n",
      "\u001B[1;31mValueError\u001B[0m: columns overlap but no suffix specified: Index(['Job'], dtype='object')"
     ]
    }
   ],
   "source": [
    "# Cant join - there's a column the same\n",
    "df1.join(df2)"
   ],
   "metadata": {
    "collapsed": false,
    "pycharm": {
     "name": "#%%\n"
    }
   }
  },
  {
   "cell_type": "code",
   "execution_count": null,
   "outputs": [],
   "source": [
    "# Join the Job column in the first frame to the index in the second\n",
    "df1.join(df2.set_index('Job'), on=['Job'])"
   ],
   "metadata": {
    "collapsed": false,
    "pycharm": {
     "name": "#%%\n"
    }
   }
  },
  {
   "cell_type": "markdown",
   "source": [
    "## Inner, Left, Right, Outer"
   ],
   "metadata": {
    "collapsed": false,
    "pycharm": {
     "name": "#%% md\n"
    }
   }
  },
  {
   "cell_type": "code",
   "execution_count": 15,
   "outputs": [
    {
     "data": {
      "text/plain": "                     Pay    Name   Surname\nJob                                       \nEntrepreneur     1000000  Walter     White\nEntrepreneur     1000000   Jesse   Pinkman\nLaw Enforcement    75000    Hank  Schrader\nLawyer            250000    Saul   Goodman\nTeacher            50000     NaN       NaN",
      "text/html": "<div>\n<style scoped>\n    .dataframe tbody tr th:only-of-type {\n        vertical-align: middle;\n    }\n\n    .dataframe tbody tr th {\n        vertical-align: top;\n    }\n\n    .dataframe thead th {\n        text-align: right;\n    }\n</style>\n<table border=\"1\" class=\"dataframe\">\n  <thead>\n    <tr style=\"text-align: right;\">\n      <th></th>\n      <th>Pay</th>\n      <th>Name</th>\n      <th>Surname</th>\n    </tr>\n    <tr>\n      <th>Job</th>\n      <th></th>\n      <th></th>\n      <th></th>\n    </tr>\n  </thead>\n  <tbody>\n    <tr>\n      <th>Entrepreneur</th>\n      <td>1000000</td>\n      <td>Walter</td>\n      <td>White</td>\n    </tr>\n    <tr>\n      <th>Entrepreneur</th>\n      <td>1000000</td>\n      <td>Jesse</td>\n      <td>Pinkman</td>\n    </tr>\n    <tr>\n      <th>Law Enforcement</th>\n      <td>75000</td>\n      <td>Hank</td>\n      <td>Schrader</td>\n    </tr>\n    <tr>\n      <th>Lawyer</th>\n      <td>250000</td>\n      <td>Saul</td>\n      <td>Goodman</td>\n    </tr>\n    <tr>\n      <th>Teacher</th>\n      <td>50000</td>\n      <td>NaN</td>\n      <td>NaN</td>\n    </tr>\n  </tbody>\n</table>\n</div>"
     },
     "execution_count": 15,
     "metadata": {},
     "output_type": "execute_result"
    }
   ],
   "source": [
    "# If we flip this around (from jobs -> people)\n",
    "# We can see the default join tyle, left\n",
    "df2.set_index('Job').join(df1.set_index('Job'))"
   ],
   "metadata": {
    "collapsed": false,
    "pycharm": {
     "name": "#%%\n"
    }
   }
  },
  {
   "cell_type": "code",
   "execution_count": 16,
   "outputs": [
    {
     "data": {
      "text/plain": "                     Pay    Name   Surname\nJob                                       \nEntrepreneur     1000000  Walter     White\nEntrepreneur     1000000   Jesse   Pinkman\nLaw Enforcement    75000    Hank  Schrader\nLawyer            250000    Saul   Goodman",
      "text/html": "<div>\n<style scoped>\n    .dataframe tbody tr th:only-of-type {\n        vertical-align: middle;\n    }\n\n    .dataframe tbody tr th {\n        vertical-align: top;\n    }\n\n    .dataframe thead th {\n        text-align: right;\n    }\n</style>\n<table border=\"1\" class=\"dataframe\">\n  <thead>\n    <tr style=\"text-align: right;\">\n      <th></th>\n      <th>Pay</th>\n      <th>Name</th>\n      <th>Surname</th>\n    </tr>\n    <tr>\n      <th>Job</th>\n      <th></th>\n      <th></th>\n      <th></th>\n    </tr>\n  </thead>\n  <tbody>\n    <tr>\n      <th>Entrepreneur</th>\n      <td>1000000</td>\n      <td>Walter</td>\n      <td>White</td>\n    </tr>\n    <tr>\n      <th>Entrepreneur</th>\n      <td>1000000</td>\n      <td>Jesse</td>\n      <td>Pinkman</td>\n    </tr>\n    <tr>\n      <th>Law Enforcement</th>\n      <td>75000</td>\n      <td>Hank</td>\n      <td>Schrader</td>\n    </tr>\n    <tr>\n      <th>Lawyer</th>\n      <td>250000</td>\n      <td>Saul</td>\n      <td>Goodman</td>\n    </tr>\n  </tbody>\n</table>\n</div>"
     },
     "execution_count": 16,
     "metadata": {},
     "output_type": "execute_result"
    }
   ],
   "source": [
    "# We can control the join using the how attribute\n",
    "# Supports left, right, inner, outer\n",
    "# Here we're showing an inner join\n",
    "df2.set_index('Job').join(df1.set_index('Job'), how='inner')"
   ],
   "metadata": {
    "collapsed": false,
    "pycharm": {
     "name": "#%%\n"
    }
   }
  },
  {
   "cell_type": "markdown",
   "source": [
    "# Suffixes\n",
    "* Sometimes, our join, results in common column names\n",
    "* We could replace the existing names of columns\n",
    "* But it could be helpful to suffix all common codes"
   ],
   "metadata": {
    "collapsed": false,
    "pycharm": {
     "name": "#%% md\n"
    }
   }
  },
  {
   "cell_type": "code",
   "execution_count": 17,
   "outputs": [
    {
     "data": {
      "text/plain": "     Name   Surname              Job      Pay\n0  Walter     White     Entrepreneur  1500000\n1    Hank  Schrader  Law Enforcement   100000\n2   Jesse   Pinkman     Entrepreneur  1500000\n3    Saul   Goodman           Lawyer   500000",
      "text/html": "<div>\n<style scoped>\n    .dataframe tbody tr th:only-of-type {\n        vertical-align: middle;\n    }\n\n    .dataframe tbody tr th {\n        vertical-align: top;\n    }\n\n    .dataframe thead th {\n        text-align: right;\n    }\n</style>\n<table border=\"1\" class=\"dataframe\">\n  <thead>\n    <tr style=\"text-align: right;\">\n      <th></th>\n      <th>Name</th>\n      <th>Surname</th>\n      <th>Job</th>\n      <th>Pay</th>\n    </tr>\n  </thead>\n  <tbody>\n    <tr>\n      <th>0</th>\n      <td>Walter</td>\n      <td>White</td>\n      <td>Entrepreneur</td>\n      <td>1500000</td>\n    </tr>\n    <tr>\n      <th>1</th>\n      <td>Hank</td>\n      <td>Schrader</td>\n      <td>Law Enforcement</td>\n      <td>100000</td>\n    </tr>\n    <tr>\n      <th>2</th>\n      <td>Jesse</td>\n      <td>Pinkman</td>\n      <td>Entrepreneur</td>\n      <td>1500000</td>\n    </tr>\n    <tr>\n      <th>3</th>\n      <td>Saul</td>\n      <td>Goodman</td>\n      <td>Lawyer</td>\n      <td>500000</td>\n    </tr>\n  </tbody>\n</table>\n</div>"
     },
     "execution_count": 17,
     "metadata": {},
     "output_type": "execute_result"
    }
   ],
   "source": [
    "df1 = pd.DataFrame([\n",
    "  {'Name': 'Walter', 'Surname': 'White',    'Job': 'Entrepreneur',    'Pay': 1_500_000},\n",
    "  {'Name': 'Hank',   'Surname': 'Schrader', 'Job': 'Law Enforcement', 'Pay': 100_000},\n",
    "  {'Name': 'Jesse',  'Surname': 'Pinkman',  'Job': 'Entrepreneur',    'Pay': 1_500_000},\n",
    "  {'Name': 'Saul',   'Surname': 'Goodman',  'Job': 'Lawyer',          'Pay': 500_000},\n",
    "])\n",
    "df1"
   ],
   "metadata": {
    "collapsed": false,
    "pycharm": {
     "name": "#%%\n"
    }
   }
  },
  {
   "cell_type": "code",
   "execution_count": 18,
   "outputs": [
    {
     "data": {
      "text/plain": "               Job     Pay\n0     Entrepreneur  200000\n1  Law Enforcement   75000\n2           Lawyer  150000\n3          Teacher   50000",
      "text/html": "<div>\n<style scoped>\n    .dataframe tbody tr th:only-of-type {\n        vertical-align: middle;\n    }\n\n    .dataframe tbody tr th {\n        vertical-align: top;\n    }\n\n    .dataframe thead th {\n        text-align: right;\n    }\n</style>\n<table border=\"1\" class=\"dataframe\">\n  <thead>\n    <tr style=\"text-align: right;\">\n      <th></th>\n      <th>Job</th>\n      <th>Pay</th>\n    </tr>\n  </thead>\n  <tbody>\n    <tr>\n      <th>0</th>\n      <td>Entrepreneur</td>\n      <td>200000</td>\n    </tr>\n    <tr>\n      <th>1</th>\n      <td>Law Enforcement</td>\n      <td>75000</td>\n    </tr>\n    <tr>\n      <th>2</th>\n      <td>Lawyer</td>\n      <td>150000</td>\n    </tr>\n    <tr>\n      <th>3</th>\n      <td>Teacher</td>\n      <td>50000</td>\n    </tr>\n  </tbody>\n</table>\n</div>"
     },
     "execution_count": 18,
     "metadata": {},
     "output_type": "execute_result"
    }
   ],
   "source": [
    "df2 = pd.DataFrame([\n",
    "  {'Job': 'Entrepreneur',    'Pay': 200_000},\n",
    "  {'Job': 'Law Enforcement', 'Pay': 75_000},\n",
    "  {'Job': 'Lawyer',          'Pay': 150_000},\n",
    "  {'Job': 'Teacher',         'Pay': 50_000},\n",
    "])\n",
    "df2"
   ],
   "metadata": {
    "collapsed": false,
    "pycharm": {
     "name": "#%%\n"
    }
   }
  },
  {
   "cell_type": "code",
   "execution_count": 19,
   "outputs": [
    {
     "data": {
      "text/plain": "     Name   Surname              Job  Pay_Current  Pay_Typical\n0  Walter     White     Entrepreneur      1500000       200000\n1    Hank  Schrader  Law Enforcement       100000        75000\n2   Jesse   Pinkman     Entrepreneur      1500000       200000\n3    Saul   Goodman           Lawyer       500000       150000",
      "text/html": "<div>\n<style scoped>\n    .dataframe tbody tr th:only-of-type {\n        vertical-align: middle;\n    }\n\n    .dataframe tbody tr th {\n        vertical-align: top;\n    }\n\n    .dataframe thead th {\n        text-align: right;\n    }\n</style>\n<table border=\"1\" class=\"dataframe\">\n  <thead>\n    <tr style=\"text-align: right;\">\n      <th></th>\n      <th>Name</th>\n      <th>Surname</th>\n      <th>Job</th>\n      <th>Pay_Current</th>\n      <th>Pay_Typical</th>\n    </tr>\n  </thead>\n  <tbody>\n    <tr>\n      <th>0</th>\n      <td>Walter</td>\n      <td>White</td>\n      <td>Entrepreneur</td>\n      <td>1500000</td>\n      <td>200000</td>\n    </tr>\n    <tr>\n      <th>1</th>\n      <td>Hank</td>\n      <td>Schrader</td>\n      <td>Law Enforcement</td>\n      <td>100000</td>\n      <td>75000</td>\n    </tr>\n    <tr>\n      <th>2</th>\n      <td>Jesse</td>\n      <td>Pinkman</td>\n      <td>Entrepreneur</td>\n      <td>1500000</td>\n      <td>200000</td>\n    </tr>\n    <tr>\n      <th>3</th>\n      <td>Saul</td>\n      <td>Goodman</td>\n      <td>Lawyer</td>\n      <td>500000</td>\n      <td>150000</td>\n    </tr>\n  </tbody>\n</table>\n</div>"
     },
     "execution_count": 19,
     "metadata": {},
     "output_type": "execute_result"
    }
   ],
   "source": [
    "# You can control the column names with suffixing\n",
    "df1.join(df2.set_index('Job'), on=['Job'], lsuffix='_Current', rsuffix='_Typical')"
   ],
   "metadata": {
    "collapsed": false,
    "pycharm": {
     "name": "#%%\n"
    }
   }
  },
  {
   "cell_type": "code",
   "execution_count": null,
   "outputs": [],
   "source": [],
   "metadata": {
    "collapsed": false,
    "pycharm": {
     "name": "#%%\n"
    }
   }
  }
 ],
 "metadata": {
  "kernelspec": {
   "display_name": "Python 3",
   "language": "python",
   "name": "python3"
  },
  "language_info": {
   "codemirror_mode": {
    "name": "ipython",
    "version": 2
   },
   "file_extension": ".py",
   "mimetype": "text/x-python",
   "name": "python",
   "nbconvert_exporter": "python",
   "pygments_lexer": "ipython2",
   "version": "2.7.6"
  }
 },
 "nbformat": 4,
 "nbformat_minor": 0
}