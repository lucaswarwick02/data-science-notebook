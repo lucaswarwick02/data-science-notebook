{
 "cells": [
  {
   "cell_type": "markdown",
   "metadata": {
    "collapsed": true,
    "pycharm": {
     "name": "#%% md\n"
    }
   },
   "source": [
    "# Assignment\n",
    "* Read the file worldcities.csv\n",
    "* Produce summary Information\n",
    "    * How many cities are there?\n",
    "    * How many countries are there?\n",
    "* Produce summary statistics by country\n",
    "    * Count of cities in each country\n",
    "    * Min population by country\n",
    "    * Max population by country\n",
    "* Extra: There are three cities that have an incorrect population (Can you find them?)"
   ]
  },
  {
   "cell_type": "code",
   "execution_count": 1,
   "outputs": [],
   "source": [
    "# Import Packages\n",
    "import numpy as np\n",
    "import pandas as pd"
   ],
   "metadata": {
    "collapsed": false,
    "pycharm": {
     "name": "#%%\n"
    }
   }
  },
  {
   "cell_type": "code",
   "execution_count": 2,
   "outputs": [
    {
     "name": "stdout",
     "output_type": "stream",
     "text": [
      "<class 'pandas.core.frame.DataFrame'>\n",
      "RangeIndex: 26569 entries, 0 to 26568\n",
      "Data columns (total 11 columns):\n",
      " #   Column      Non-Null Count  Dtype  \n",
      "---  ------      --------------  -----  \n",
      " 0   city        26569 non-null  object \n",
      " 1   city_ascii  26569 non-null  object \n",
      " 2   lat         26569 non-null  float64\n",
      " 3   lng         26569 non-null  float64\n",
      " 4   country     26569 non-null  object \n",
      " 5   iso2        26538 non-null  object \n",
      " 6   iso3        26569 non-null  object \n",
      " 7   admin_name  26493 non-null  object \n",
      " 8   capital     7626 non-null   object \n",
      " 9   population  25596 non-null  float64\n",
      " 10  id          26569 non-null  int64  \n",
      "dtypes: float64(3), int64(1), object(7)\n",
      "memory usage: 2.2+ MB\n"
     ]
    }
   ],
   "source": [
    "df = pd.read_csv('worldcities.csv')\n",
    "df.info()"
   ],
   "metadata": {
    "collapsed": false,
    "pycharm": {
     "name": "#%%\n"
    }
   }
  },
  {
   "cell_type": "markdown",
   "source": [
    "### How many cities are there?"
   ],
   "metadata": {
    "collapsed": false,
    "pycharm": {
     "name": "#%% md\n"
    }
   }
  },
  {
   "cell_type": "code",
   "execution_count": 4,
   "outputs": [
    {
     "data": {
      "text/plain": "26569"
     },
     "execution_count": 4,
     "metadata": {},
     "output_type": "execute_result"
    }
   ],
   "source": [
    "len(df['city'])"
   ],
   "metadata": {
    "collapsed": false,
    "pycharm": {
     "name": "#%%\n"
    }
   }
  },
  {
   "cell_type": "markdown",
   "source": [
    "### How many countries are there?"
   ],
   "metadata": {
    "collapsed": false,
    "pycharm": {
     "name": "#%% md\n"
    }
   }
  },
  {
   "cell_type": "code",
   "execution_count": 6,
   "outputs": [
    {
     "data": {
      "text/plain": "224"
     },
     "execution_count": 6,
     "metadata": {},
     "output_type": "execute_result"
    }
   ],
   "source": [
    "len(df.groupby('country'))"
   ],
   "metadata": {
    "collapsed": false,
    "pycharm": {
     "name": "#%%\n"
    }
   }
  },
  {
   "cell_type": "markdown",
   "source": [
    "### Count of cities in each Country"
   ],
   "metadata": {
    "collapsed": false,
    "pycharm": {
     "name": "#%% md\n"
    }
   }
  },
  {
   "cell_type": "code",
   "execution_count": 8,
   "outputs": [
    {
     "data": {
      "text/plain": "country\nAfghanistan          44\nAlbania              50\nAlgeria              62\nAmerican Samoa        1\nAndorra               7\n                     ..\nWallis And Futuna     1\nWest Bank             1\nYemen                42\nZambia               35\nZimbabwe             26\nLength: 224, dtype: int64"
     },
     "execution_count": 8,
     "metadata": {},
     "output_type": "execute_result"
    }
   ],
   "source": [
    "# Group by country & count the groups\n",
    "df.groupby('country').size()"
   ],
   "metadata": {
    "collapsed": false,
    "pycharm": {
     "name": "#%%\n"
    }
   }
  },
  {
   "cell_type": "code",
   "execution_count": 9,
   "outputs": [
    {
     "data": {
      "text/plain": "                   city  city_ascii  lat  lng  iso2  iso3  admin_name  \\\ncountry                                                                 \nAfghanistan          44          44   44   44    44    44          44   \nAlbania              50          50   50   50    50    50          50   \nAlgeria              62          62   62   62    62    62          62   \nAmerican Samoa        1           1    1    1     1     1           0   \nAndorra               7           7    7    7     7     7           7   \n...                 ...         ...  ...  ...   ...   ...         ...   \nWallis And Futuna     1           1    1    1     1     1           1   \nWest Bank             1           1    1    1     1     1           0   \nYemen                42          42   42   42    42    42          42   \nZambia               35          35   35   35    35    35          35   \nZimbabwe             26          26   26   26    26    26          26   \n\n                   capital  population  id  \ncountry                                     \nAfghanistan             41          39  44  \nAlbania                 12          50  50  \nAlgeria                 48          57  62  \nAmerican Samoa           1           1   1  \nAndorra                  7           1   7  \n...                    ...         ...  ..  \nWallis And Futuna        1           0   1  \nWest Bank                1           0   1  \nYemen                   40          39  42  \nZambia                  10          35  35  \nZimbabwe                10          25  26  \n\n[224 rows x 10 columns]",
      "text/html": "<div>\n<style scoped>\n    .dataframe tbody tr th:only-of-type {\n        vertical-align: middle;\n    }\n\n    .dataframe tbody tr th {\n        vertical-align: top;\n    }\n\n    .dataframe thead th {\n        text-align: right;\n    }\n</style>\n<table border=\"1\" class=\"dataframe\">\n  <thead>\n    <tr style=\"text-align: right;\">\n      <th></th>\n      <th>city</th>\n      <th>city_ascii</th>\n      <th>lat</th>\n      <th>lng</th>\n      <th>iso2</th>\n      <th>iso3</th>\n      <th>admin_name</th>\n      <th>capital</th>\n      <th>population</th>\n      <th>id</th>\n    </tr>\n    <tr>\n      <th>country</th>\n      <th></th>\n      <th></th>\n      <th></th>\n      <th></th>\n      <th></th>\n      <th></th>\n      <th></th>\n      <th></th>\n      <th></th>\n      <th></th>\n    </tr>\n  </thead>\n  <tbody>\n    <tr>\n      <th>Afghanistan</th>\n      <td>44</td>\n      <td>44</td>\n      <td>44</td>\n      <td>44</td>\n      <td>44</td>\n      <td>44</td>\n      <td>44</td>\n      <td>41</td>\n      <td>39</td>\n      <td>44</td>\n    </tr>\n    <tr>\n      <th>Albania</th>\n      <td>50</td>\n      <td>50</td>\n      <td>50</td>\n      <td>50</td>\n      <td>50</td>\n      <td>50</td>\n      <td>50</td>\n      <td>12</td>\n      <td>50</td>\n      <td>50</td>\n    </tr>\n    <tr>\n      <th>Algeria</th>\n      <td>62</td>\n      <td>62</td>\n      <td>62</td>\n      <td>62</td>\n      <td>62</td>\n      <td>62</td>\n      <td>62</td>\n      <td>48</td>\n      <td>57</td>\n      <td>62</td>\n    </tr>\n    <tr>\n      <th>American Samoa</th>\n      <td>1</td>\n      <td>1</td>\n      <td>1</td>\n      <td>1</td>\n      <td>1</td>\n      <td>1</td>\n      <td>0</td>\n      <td>1</td>\n      <td>1</td>\n      <td>1</td>\n    </tr>\n    <tr>\n      <th>Andorra</th>\n      <td>7</td>\n      <td>7</td>\n      <td>7</td>\n      <td>7</td>\n      <td>7</td>\n      <td>7</td>\n      <td>7</td>\n      <td>7</td>\n      <td>1</td>\n      <td>7</td>\n    </tr>\n    <tr>\n      <th>...</th>\n      <td>...</td>\n      <td>...</td>\n      <td>...</td>\n      <td>...</td>\n      <td>...</td>\n      <td>...</td>\n      <td>...</td>\n      <td>...</td>\n      <td>...</td>\n      <td>...</td>\n    </tr>\n    <tr>\n      <th>Wallis And Futuna</th>\n      <td>1</td>\n      <td>1</td>\n      <td>1</td>\n      <td>1</td>\n      <td>1</td>\n      <td>1</td>\n      <td>1</td>\n      <td>1</td>\n      <td>0</td>\n      <td>1</td>\n    </tr>\n    <tr>\n      <th>West Bank</th>\n      <td>1</td>\n      <td>1</td>\n      <td>1</td>\n      <td>1</td>\n      <td>1</td>\n      <td>1</td>\n      <td>0</td>\n      <td>1</td>\n      <td>0</td>\n      <td>1</td>\n    </tr>\n    <tr>\n      <th>Yemen</th>\n      <td>42</td>\n      <td>42</td>\n      <td>42</td>\n      <td>42</td>\n      <td>42</td>\n      <td>42</td>\n      <td>42</td>\n      <td>40</td>\n      <td>39</td>\n      <td>42</td>\n    </tr>\n    <tr>\n      <th>Zambia</th>\n      <td>35</td>\n      <td>35</td>\n      <td>35</td>\n      <td>35</td>\n      <td>35</td>\n      <td>35</td>\n      <td>35</td>\n      <td>10</td>\n      <td>35</td>\n      <td>35</td>\n    </tr>\n    <tr>\n      <th>Zimbabwe</th>\n      <td>26</td>\n      <td>26</td>\n      <td>26</td>\n      <td>26</td>\n      <td>26</td>\n      <td>26</td>\n      <td>26</td>\n      <td>10</td>\n      <td>25</td>\n      <td>26</td>\n    </tr>\n  </tbody>\n</table>\n<p>224 rows × 10 columns</p>\n</div>"
     },
     "execution_count": 9,
     "metadata": {},
     "output_type": "execute_result"
    }
   ],
   "source": [
    "# Group by country and count the non null items\n",
    "df.groupby('country').count()"
   ],
   "metadata": {
    "collapsed": false,
    "pycharm": {
     "name": "#%%\n"
    }
   }
  },
  {
   "cell_type": "markdown",
   "source": [
    "### Min population by country"
   ],
   "metadata": {
    "collapsed": false,
    "pycharm": {
     "name": "#%% md\n"
    }
   }
  },
  {
   "cell_type": "code",
   "execution_count": 25,
   "outputs": [
    {
     "data": {
      "text/plain": "country\nAfghanistan           4938.0\nAlbania               3607.0\nAlgeria                216.0\nAmerican Samoa       12576.0\nAndorra              22151.0\n                      ...   \nWallis And Futuna        NaN\nWest Bank                NaN\nYemen                  189.0\nZambia                1336.0\nZimbabwe              2148.0\nName: population, Length: 224, dtype: float64"
     },
     "execution_count": 25,
     "metadata": {},
     "output_type": "execute_result"
    }
   ],
   "source": [
    "df.groupby('country')['population'].min()"
   ],
   "metadata": {
    "collapsed": false,
    "pycharm": {
     "name": "#%%\n"
    }
   }
  },
  {
   "cell_type": "markdown",
   "source": [
    "### Min population by country"
   ],
   "metadata": {
    "collapsed": false,
    "pycharm": {
     "name": "#%% md\n"
    }
   }
  },
  {
   "cell_type": "code",
   "execution_count": 26,
   "outputs": [
    {
     "data": {
      "text/plain": "country\nAfghanistan          3678034.0\nAlbania               418495.0\nAlgeria              3415811.0\nAmerican Samoa         12576.0\nAndorra                22151.0\n                       ...    \nWallis And Futuna          NaN\nWest Bank                  NaN\nYemen                2957000.0\nZambia               1742979.0\nZimbabwe             1606000.0\nName: population, Length: 224, dtype: float64"
     },
     "execution_count": 26,
     "metadata": {},
     "output_type": "execute_result"
    }
   ],
   "source": [
    "df.groupby('country')['population'].max()"
   ],
   "metadata": {
    "collapsed": false,
    "pycharm": {
     "name": "#%%\n"
    }
   }
  },
  {
   "cell_type": "markdown",
   "source": [
    "### Extra: There are three cities that have an incorrect population (Can you find them?)"
   ],
   "metadata": {
    "collapsed": false,
    "pycharm": {
     "name": "#%% md\n"
    }
   }
  },
  {
   "cell_type": "code",
   "execution_count": 30,
   "outputs": [
    {
     "data": {
      "text/plain": "             city    country  population  correct_population\n8436        Tecax     Mexico      50.789               0.789\n9447      Kobarid   Slovenia       4.472               0.472\n26062  Río Cuarto  Argentina     158.298               0.298",
      "text/html": "<div>\n<style scoped>\n    .dataframe tbody tr th:only-of-type {\n        vertical-align: middle;\n    }\n\n    .dataframe tbody tr th {\n        vertical-align: top;\n    }\n\n    .dataframe thead th {\n        text-align: right;\n    }\n</style>\n<table border=\"1\" class=\"dataframe\">\n  <thead>\n    <tr style=\"text-align: right;\">\n      <th></th>\n      <th>city</th>\n      <th>country</th>\n      <th>population</th>\n      <th>correct_population</th>\n    </tr>\n  </thead>\n  <tbody>\n    <tr>\n      <th>8436</th>\n      <td>Tecax</td>\n      <td>Mexico</td>\n      <td>50.789</td>\n      <td>0.789</td>\n    </tr>\n    <tr>\n      <th>9447</th>\n      <td>Kobarid</td>\n      <td>Slovenia</td>\n      <td>4.472</td>\n      <td>0.472</td>\n    </tr>\n    <tr>\n      <th>26062</th>\n      <td>Río Cuarto</td>\n      <td>Argentina</td>\n      <td>158.298</td>\n      <td>0.298</td>\n    </tr>\n  </tbody>\n</table>\n</div>"
     },
     "execution_count": 30,
     "metadata": {},
     "output_type": "execute_result"
    }
   ],
   "source": [
    "# Three cities have fractional populations\n",
    "inc_df = df.copy()\n",
    "inc_df['population'] = inc_df['population'].fillna(0)\n",
    "inc_df['correct_population'] = inc_df['population'] - inc_df['population'].astype(int)\n",
    "inc_df.sort_values('correct_population')\n",
    "inc_df[inc_df['correct_population'] > 0][['city', 'country', 'population', 'correct_population']]"
   ],
   "metadata": {
    "collapsed": false,
    "pycharm": {
     "name": "#%%\n"
    }
   }
  }
 ],
 "metadata": {
  "kernelspec": {
   "display_name": "Python 3",
   "language": "python",
   "name": "python3"
  },
  "language_info": {
   "codemirror_mode": {
    "name": "ipython",
    "version": 2
   },
   "file_extension": ".py",
   "mimetype": "text/x-python",
   "name": "python",
   "nbconvert_exporter": "python",
   "pygments_lexer": "ipython2",
   "version": "2.7.6"
  }
 },
 "nbformat": 4,
 "nbformat_minor": 0
}