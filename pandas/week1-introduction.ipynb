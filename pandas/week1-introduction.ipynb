{
 "cells": [
  {
   "cell_type": "markdown",
   "metadata": {
    "collapsed": true,
    "pycharm": {
     "name": "#%% md\n"
    }
   },
   "source": [
    "# Setup\n",
    "### Importing the packages"
   ]
  },
  {
   "cell_type": "code",
   "execution_count": 40,
   "outputs": [],
   "source": [
    "import pandas as pd\n",
    "import numpy as np\n",
    "import matplotlib.pyplot as plt\n",
    "\n",
    "import csv\n",
    "from pprint import pprint\n",
    "from collections import defaultdict"
   ],
   "metadata": {
    "collapsed": false,
    "pycharm": {
     "name": "#%%\n"
    }
   }
  },
  {
   "cell_type": "markdown",
   "source": [
    "### Checking the Pandas version"
   ],
   "metadata": {
    "collapsed": false,
    "pycharm": {
     "name": "#%% md\n"
    }
   }
  },
  {
   "cell_type": "code",
   "execution_count": 41,
   "outputs": [
    {
     "data": {
      "text/plain": "'1.4.1'"
     },
     "execution_count": 41,
     "metadata": {},
     "output_type": "execute_result"
    }
   ],
   "source": [
    "pd.__version__"
   ],
   "metadata": {
    "collapsed": false,
    "pycharm": {
     "name": "#%%\n"
    }
   }
  },
  {
   "cell_type": "markdown",
   "source": [
    "# Pure Python - Analytics\n",
    "### Task\n",
    "* Read in header & first 5 lines of the file\n",
    "* Compute a total of the population\n",
    "* Compute a group total of population by country\n",
    "* Return the top 5 populous countries\n",
    "### Read Data - File Reader"
   ],
   "metadata": {
    "collapsed": false,
    "pycharm": {
     "name": "#%% md\n"
    }
   }
  },
  {
   "cell_type": "code",
   "execution_count": 42,
   "outputs": [
    {
     "name": "stdout",
     "output_type": "stream",
     "text": [
      "\"city\",\"city_ascii\",\"lat\",\"lng\",\"country\",\"iso2\",\"iso3\",\"admin_name\",\"capital\",\"population\",\"id\"\n",
      "\n",
      "\"Tokyo\",\"Tokyo\",\"35.6897\",\"139.6922\",\"Japan\",\"JP\",\"JPN\",\"Tōkyō\",\"primary\",\"37977000\",\"1392685764\"\n",
      "\n",
      "\"Jakarta\",\"Jakarta\",\"-6.2146\",\"106.8451\",\"Indonesia\",\"ID\",\"IDN\",\"Jakarta\",\"primary\",\"34540000\",\"1360771077\"\n",
      "\n",
      "\"Delhi\",\"Delhi\",\"28.6600\",\"77.2300\",\"India\",\"IN\",\"IND\",\"Delhi\",\"admin\",\"29617000\",\"1356872604\"\n",
      "\n",
      "\"Mumbai\",\"Mumbai\",\"18.9667\",\"72.8333\",\"India\",\"IN\",\"IND\",\"Mahārāshtra\",\"admin\",\"23355000\",\"1356226629\"\n",
      "\n",
      "\"Manila\",\"Manila\",\"14.5958\",\"120.9772\",\"Philippines\",\"PH\",\"PHL\",\"Manila\",\"primary\",\"23088000\",\"1608618140\"\n",
      "\n"
     ]
    }
   ],
   "source": [
    "lines = 0\n",
    "with open('worldcities.csv', 'r', encoding='utf8') as file:\n",
    "    for line in file:\n",
    "        print(line)\n",
    "        lines += 1\n",
    "        if lines > 5:\n",
    "            break"
   ],
   "metadata": {
    "collapsed": false,
    "pycharm": {
     "name": "#%%\n"
    }
   }
  },
  {
   "cell_type": "code",
   "execution_count": 43,
   "outputs": [
    {
     "name": "stdout",
     "output_type": "stream",
     "text": [
      "Manila = 23,088,000\n"
     ]
    }
   ],
   "source": [
    "extract = line.replace('\"', '').split(',')\n",
    "print(f'{extract[1]} = {int(extract[9]):,}')"
   ],
   "metadata": {
    "collapsed": false,
    "pycharm": {
     "name": "#%%\n"
    }
   }
  },
  {
   "cell_type": "markdown",
   "source": [
    "### Read Data - CSV Reader\n",
    "* Expand on file reader by parsing the CSV in each row\n",
    "* CSV Reader yields back an array of data per line\n",
    "* Improvement - We can index into the array by value to find population and country"
   ],
   "metadata": {
    "collapsed": false,
    "pycharm": {
     "name": "#%% md\n"
    }
   }
  },
  {
   "cell_type": "code",
   "execution_count": 44,
   "outputs": [
    {
     "name": "stdout",
     "output_type": "stream",
     "text": [
      "['city', 'city_ascii', 'lat', 'lng', 'country', 'iso2', 'iso3', 'admin_name', 'capital', 'population', 'id']\n",
      "['Tokyo', 'Tokyo', '35.6897', '139.6922', 'Japan', 'JP', 'JPN', 'Tōkyō', 'primary', '37977000', '1392685764']\n",
      "['Jakarta', 'Jakarta', '-6.2146', '106.8451', 'Indonesia', 'ID', 'IDN', 'Jakarta', 'primary', '34540000', '1360771077']\n",
      "['Delhi', 'Delhi', '28.6600', '77.2300', 'India', 'IN', 'IND', 'Delhi', 'admin', '29617000', '1356872604']\n",
      "['Mumbai', 'Mumbai', '18.9667', '72.8333', 'India', 'IN', 'IND', 'Mahārāshtra', 'admin', '23355000', '1356226629']\n",
      "['Manila', 'Manila', '14.5958', '120.9772', 'Philippines', 'PH', 'PHL', 'Manila', 'primary', '23088000', '1608618140']\n"
     ]
    }
   ],
   "source": [
    "lines = 0\n",
    "with open('worldcities.csv', 'r', encoding='utf8') as file:\n",
    "    reader = csv.reader(file, delimiter=',', quotechar='\"')\n",
    "    for line in reader:\n",
    "        print(line)\n",
    "        lines += 1\n",
    "        if lines > 5:\n",
    "            break"
   ],
   "metadata": {
    "collapsed": false,
    "pycharm": {
     "name": "#%%\n"
    }
   }
  },
  {
   "cell_type": "code",
   "execution_count": 45,
   "outputs": [
    {
     "data": {
      "text/plain": "['Manila',\n 'Manila',\n '14.5958',\n '120.9772',\n 'Philippines',\n 'PH',\n 'PHL',\n 'Manila',\n 'primary',\n '23088000',\n '1608618140']"
     },
     "execution_count": 45,
     "metadata": {},
     "output_type": "execute_result"
    }
   ],
   "source": [
    "extract = line\n",
    "extract"
   ],
   "metadata": {
    "collapsed": false,
    "pycharm": {
     "name": "#%%\n"
    }
   }
  },
  {
   "cell_type": "code",
   "execution_count": 46,
   "outputs": [
    {
     "name": "stdout",
     "output_type": "stream",
     "text": [
      "Manila = 23,088,000\n"
     ]
    }
   ],
   "source": [
    "print(f'{extract[1]} = {int(extract[9]):,}')"
   ],
   "metadata": {
    "collapsed": false,
    "pycharm": {
     "name": "#%%\n"
    }
   }
  },
  {
   "cell_type": "markdown",
   "source": [
    "### Read Data - Dict Reader\n",
    "* The Dict Reader offers further improvement\n",
    "* Note our header row has been consumed and used to give us a name-value dictionary for each row"
   ],
   "metadata": {
    "collapsed": false,
    "pycharm": {
     "name": "#%% md\n"
    }
   }
  },
  {
   "cell_type": "code",
   "execution_count": 47,
   "outputs": [
    {
     "name": "stdout",
     "output_type": "stream",
     "text": [
      "{'city': 'Tokyo', 'city_ascii': 'Tokyo', 'lat': '35.6897', 'lng': '139.6922', 'country': 'Japan', 'iso2': 'JP', 'iso3': 'JPN', 'admin_name': 'Tōkyō', 'capital': 'primary', 'population': '37977000', 'id': '1392685764'}\n",
      "{'city': 'Jakarta', 'city_ascii': 'Jakarta', 'lat': '-6.2146', 'lng': '106.8451', 'country': 'Indonesia', 'iso2': 'ID', 'iso3': 'IDN', 'admin_name': 'Jakarta', 'capital': 'primary', 'population': '34540000', 'id': '1360771077'}\n",
      "{'city': 'Delhi', 'city_ascii': 'Delhi', 'lat': '28.6600', 'lng': '77.2300', 'country': 'India', 'iso2': 'IN', 'iso3': 'IND', 'admin_name': 'Delhi', 'capital': 'admin', 'population': '29617000', 'id': '1356872604'}\n",
      "{'city': 'Mumbai', 'city_ascii': 'Mumbai', 'lat': '18.9667', 'lng': '72.8333', 'country': 'India', 'iso2': 'IN', 'iso3': 'IND', 'admin_name': 'Mahārāshtra', 'capital': 'admin', 'population': '23355000', 'id': '1356226629'}\n",
      "{'city': 'Manila', 'city_ascii': 'Manila', 'lat': '14.5958', 'lng': '120.9772', 'country': 'Philippines', 'iso2': 'PH', 'iso3': 'PHL', 'admin_name': 'Manila', 'capital': 'primary', 'population': '23088000', 'id': '1608618140'}\n"
     ]
    }
   ],
   "source": [
    "lines = 0\n",
    "with open('worldcities.csv', 'r', encoding='utf8') as file:\n",
    "    reader = csv.DictReader(file, delimiter=',', quotechar='\"')\n",
    "    for line in reader:\n",
    "        print(line)\n",
    "        lines += 1\n",
    "        if lines > 4:\n",
    "            break"
   ],
   "metadata": {
    "collapsed": false,
    "pycharm": {
     "name": "#%%\n"
    }
   }
  },
  {
   "cell_type": "code",
   "execution_count": 48,
   "outputs": [
    {
     "data": {
      "text/plain": "{'city': 'Manila',\n 'city_ascii': 'Manila',\n 'lat': '14.5958',\n 'lng': '120.9772',\n 'country': 'Philippines',\n 'iso2': 'PH',\n 'iso3': 'PHL',\n 'admin_name': 'Manila',\n 'capital': 'primary',\n 'population': '23088000',\n 'id': '1608618140'}"
     },
     "execution_count": 48,
     "metadata": {},
     "output_type": "execute_result"
    }
   ],
   "source": [
    "extract = line\n",
    "extract"
   ],
   "metadata": {
    "collapsed": false,
    "pycharm": {
     "name": "#%%\n"
    }
   }
  },
  {
   "cell_type": "code",
   "execution_count": 49,
   "outputs": [
    {
     "name": "stdout",
     "output_type": "stream",
     "text": [
      "Manila = 23,088,000\n"
     ]
    }
   ],
   "source": [
    "print(f\"{extract['city_ascii']} = {int(extract['population']):,}\")"
   ],
   "metadata": {
    "collapsed": false,
    "pycharm": {
     "name": "#%%\n"
    }
   }
  },
  {
   "cell_type": "markdown",
   "source": [
    "### Sum Population (With Floats)\n",
    "* We're expecting an integer, but receive a float\n",
    "* We need to parse float then int\n",
    "* Then we can get an answer"
   ],
   "metadata": {
    "collapsed": false,
    "pycharm": {
     "name": "#%% md\n"
    }
   }
  },
  {
   "cell_type": "code",
   "execution_count": 50,
   "outputs": [
    {
     "name": "stdout",
     "output_type": "stream",
     "text": [
      "Population = 4,155,400,545\n"
     ]
    }
   ],
   "source": [
    "# Handle casting to float then to int\n",
    "population = 0\n",
    "with open('worldcities.csv', 'r', encoding='utf8') as file:\n",
    "    reader = csv.DictReader(file, delimiter=',', quotechar='\"')\n",
    "    for line in reader:\n",
    "        population += 0 if line['population'] == '' else int(float(line['population']))\n",
    "print(f'Population = {population:,}')"
   ],
   "metadata": {
    "collapsed": false,
    "pycharm": {
     "name": "#%%\n"
    }
   }
  },
  {
   "cell_type": "markdown",
   "source": [
    "### Population by County"
   ],
   "metadata": {
    "collapsed": false,
    "pycharm": {
     "name": "#%% md\n"
    }
   }
  },
  {
   "cell_type": "code",
   "execution_count": 51,
   "outputs": [
    {
     "name": "stdout",
     "output_type": "stream",
     "text": [
      "Japan = 148,273,773\n",
      "Indonesia = 85,283,563\n",
      "India = 270,170,371\n",
      "Philippines = 62,547,674\n",
      "China = 1,388,868,247\n",
      "Brazil = 135,416,434\n",
      "Korea, South = 58,770,399\n",
      "Mexico = 103,464,676\n",
      "Egypt = 38,873,354\n",
      "United States = 400,521,452\n",
      "Russia = 105,990,872\n",
      "Thailand = 23,598,357\n",
      "Argentina = 36,192,503\n",
      "Bangladesh = 23,288,987\n",
      "Nigeria = 54,771,880\n",
      "Turkey = 70,958,511\n",
      "Pakistan = 56,952,881\n",
      "Iran = 48,493,926\n",
      "Congo (Kinshasa) = 27,429,409\n",
      "Vietnam = 37,934,404\n",
      "France = 38,429,395\n",
      "United Kingdom = 72,555,282\n",
      "Peru = 21,273,383\n",
      "Colombia = 28,491,631\n",
      "Angola = 11,609,969\n",
      "Malaysia = 19,509,922\n",
      "Hong Kong = 7,347,000\n",
      "Sudan = 15,752,339\n",
      "Chile = 13,775,014\n",
      "Saudi Arabia = 22,327,128\n",
      "Tanzania = 11,276,325\n",
      "Iraq = 18,624,715\n",
      "Singapore = 5,745,000\n",
      "Kenya = 11,135,325\n",
      "Burma = 12,306,878\n",
      "Canada = 37,747,786\n",
      "Australia = 23,563,278\n",
      "Côte D’Ivoire = 8,012,496\n",
      "Spain = 22,741,191\n",
      "South Africa = 15,430,094\n",
      "Morocco = 16,986,585\n",
      "Jordan = 6,057,680\n",
      "Afghanistan = 7,474,525\n",
      "Germany = 58,243,288\n",
      "Algeria = 10,828,214\n",
      "Bolivia = 9,579,010\n",
      "Ethiopia = 7,156,734\n",
      "Ukraine = 25,564,289\n",
      "Yemen = 6,674,466\n",
      "Italy = 16,849,060\n",
      "Korea, North = 10,812,978\n",
      "Taiwan = 16,329,799\n",
      "Ecuador = 8,895,151\n",
      "Madagascar = 4,105,156\n",
      "Dominican Republic = 6,349,737\n",
      "United Arab Emirates = 6,235,798\n",
      "Guatemala = 4,362,464\n",
      "Cameroon = 8,327,335\n",
      "Uzbekistan = 8,086,374\n",
      "Ghana = 6,417,422\n",
      "Azerbaijan = 4,471,589\n",
      "Cuba = 7,480,952\n",
      "Cambodia = 3,154,026\n",
      "Somalia = 2,978,151\n",
      "Belarus = 6,606,289\n",
      "Mali = 3,283,446\n",
      "Venezuela = 21,621,242\n",
      "Malawi = 3,333,893\n",
      "Romania = 9,285,451\n",
      "Paraguay = 3,443,900\n",
      "Austria = 4,446,483\n",
      "Syria = 9,015,544\n",
      "Congo (Brazzaville) = 3,069,055\n",
      "Kazakhstan = 10,798,797\n",
      "Poland = 15,534,260\n",
      "Hungary = 6,406,810\n",
      "Zambia = 4,744,736\n",
      "Guinea = 3,037,125\n",
      "Uganda = 3,795,319\n",
      "Burkina Faso = 2,809,260\n",
      "Zimbabwe = 3,661,602\n",
      "New Zealand = 4,692,723\n",
      "Oman = 2,229,298\n",
      "Netherlands = 5,804,106\n",
      "Mongolia = 2,019,578\n",
      "Serbia = 3,628,632\n",
      "Bulgaria = 5,654,453\n",
      "Czechia = 6,506,053\n",
      "Uruguay = 2,806,470\n",
      "Qatar = 1,312,947\n",
      "Honduras = 5,324,013\n",
      "Tunisia = 3,645,708\n",
      "Mozambique = 5,498,168\n",
      "Ireland = 1,893,782\n",
      "Senegal = 2,632,879\n",
      "Libya = 4,117,805\n",
      "Georgia = 2,072,042\n",
      "Chad = 2,127,104\n",
      "Denmark = 1,894,253\n",
      "Armenia = 1,747,029\n",
      "Mauritania = 1,694,656\n",
      "Kyrgyzstan = 2,024,060\n",
      "Turkmenistan = 2,455,609\n",
      "Niger = 2,303,841\n",
      "Nicaragua = 2,738,421\n",
      "Liberia = 1,277,948\n",
      "Haiti = 3,181,750\n",
      "Nepal = 3,541,383\n",
      "Sweden = 4,057,311\n",
      "Eritrea = 1,344,590\n",
      "Sierra Leone = 1,489,035\n",
      "Israel = 6,091,260\n",
      "Panama = 1,634,277\n",
      "Togo = 1,218,460\n",
      "Gabon = 1,202,076\n",
      "Croatia = 2,065,222\n",
      "Tajikistan = 1,515,690\n",
      "Benin = 1,928,328\n",
      "Laos = 1,262,137\n",
      "Sri Lanka = 2,259,322\n",
      "Rwanda = 1,545,603\n",
      "Central African Republic = 1,389,032\n",
      "Latvia = 1,384,350\n",
      "Norway = 2,460,353\n",
      "Moldova = 1,707,469\n",
      "Greece = 4,587,831\n",
      "Burundi = 898,678\n",
      "Finland = 4,350,445\n",
      "Macedonia = 1,498,142\n",
      "Kuwait = 900,367\n",
      "Jamaica = 1,418,101\n",
      "Lithuania = 1,868,972\n",
      "El Salvador = 2,063,848\n",
      "Djibouti = 670,959\n",
      "Portugal = 8,318,471\n",
      "Estonia = 846,104\n",
      "Slovakia = 2,906,075\n",
      "Albania = 1,691,769\n",
      "Lebanon = 1,588,587\n",
      "Guinea-Bissau = 532,723\n",
      "South Sudan = 1,408,282\n",
      "Papua New Guinea = 853,092\n",
      "Lesotho = 606,980\n",
      "Cyprus = 724,091\n",
      "Namibia = 801,778\n",
      "Costa Rica = 913,445\n",
      "Slovenia = 710,758\n",
      "Bosnia And Herzegovina = 1,583,331\n",
      "Bahamas, The = 306,066\n",
      "Botswana = 781,305\n",
      "Suriname = 316,248\n",
      "Timor-Leste = 299,127\n",
      "Kosovo = 1,964,079\n",
      "Guyana = 315,724\n",
      "Equatorial Guinea = 569,917\n",
      "Belgium = 3,639,342\n",
      "Maldives = 133,019\n",
      "Montenegro = 319,993\n",
      "Bahrain = 325,174\n",
      "Mauritius = 498,704\n",
      "Switzerland = 4,004,627\n",
      "Iceland = 269,489\n",
      "Cabo Verde = 252,653\n",
      "Luxembourg = 194,462\n",
      "Barbados = 110,000\n",
      "Comoros = 157,002\n",
      "Bhutan = 129,000\n",
      "Swaziland = 232,552\n",
      "Solomon Islands = 91,227\n",
      "Fiji = 286,476\n",
      "Saint Lucia = 91,660\n",
      "Sao Tome And Principe = 62,802\n",
      "Vanuatu = 65,539\n",
      "Brunei = 101,349\n",
      "Monaco = 36,371\n",
      "Trinidad And Tobago = 277,741\n",
      "Samoa = 37,708\n",
      "Liechtenstein = 46,508\n",
      "Gambia, The = 309,494\n",
      "Kiribati = 33,907\n",
      "Seychelles = 26,450\n",
      "Marshall Islands = 25,400\n",
      "Saint Vincent And The Grenadines = 25,418\n",
      "Tonga = 31,962\n",
      "Antigua And Barbuda = 21,926\n",
      "Andorra = 22,151\n",
      "Belize = 144,057\n",
      "Dominica = 16,582\n",
      "Saint Kitts And Nevis = 13,220\n",
      "American Samoa = 12,576\n",
      "Malta = 47,579\n",
      "Micronesia, Federated States Of = 6,227\n",
      "Tuvalu = 6,025\n",
      "Grenada = 4,315\n",
      "San Marino = 4,040\n",
      "West Bank = 0\n",
      "Northern Mariana Islands = 2,500\n",
      "Guam = 123,462\n",
      "Palau = 15,770\n",
      "Macau = 568,700\n",
      "Puerto Rico = 1,540,117\n",
      "Martinique = 253,995\n",
      "Gibraltar = 187,083\n",
      "Reunion = 225,357\n",
      "Guadeloupe = 145,818\n",
      "Curaçao = 150,000\n",
      "French Polynesia = 131,695\n",
      "New Caledonia = 93,060\n",
      "French Guiana = 119,553\n",
      "Aruba = 34,980\n",
      "Jersey = 33,522\n",
      "Mayotte = 32,057\n",
      "Greenland = 46,412\n",
      "Faroe Islands = 17,990\n",
      "Wallis And Futuna = 0\n",
      "Saint Helena, Ascension, And Tristan Da Cunha = 0\n",
      "Bermuda = 52,320\n",
      "Cayman Islands = 27,704\n",
      "Isle Of Man = 25,000\n",
      "Turks And Caicos Islands = 5,801\n",
      "Cook Islands = 5,445\n",
      "Vatican City = 825\n",
      "Falkland Islands (Islas Malvinas) = 2,213\n",
      "South Georgia And South Sandwich Islands = 99\n"
     ]
    }
   ],
   "source": [
    "country_population = defaultdict(int)\n",
    "\n",
    "with open('worldcities.csv', 'r', encoding='utf8') as file:\n",
    "    reader = csv.DictReader(file, delimiter=',', quotechar='\"')\n",
    "    for line in reader:\n",
    "        country_population[line['country']] += 0 if line['population'] == '' else int(float(line['population']))\n",
    "\n",
    "for key, value in country_population.items():\n",
    "    print(f'{key} = {value:,}')"
   ],
   "metadata": {
    "collapsed": false,
    "pycharm": {
     "name": "#%%\n"
    }
   }
  },
  {
   "cell_type": "markdown",
   "source": [
    "### Most Populous Countries"
   ],
   "metadata": {
    "collapsed": false,
    "pycharm": {
     "name": "#%% md\n"
    }
   }
  },
  {
   "cell_type": "code",
   "execution_count": 52,
   "outputs": [
    {
     "name": "stdout",
     "output_type": "stream",
     "text": [
      "China 4,155,400,545\n",
      "United States 4,155,400,545\n",
      "India 4,155,400,545\n",
      "Japan 4,155,400,545\n",
      "Brazil 4,155,400,545\n"
     ]
    }
   ],
   "source": [
    "# Chain array operations (pick top & reverse sort)\n",
    "grp = sorted(country_population.items(), key=lambda kv: kv[1])[-5:][::-1]\n",
    "for country, populatio in grp:\n",
    "    print(f'{country} {population:,}')"
   ],
   "metadata": {
    "collapsed": false,
    "pycharm": {
     "name": "#%%\n"
    }
   }
  },
  {
   "cell_type": "markdown",
   "source": [
    "### Notes\n",
    "* Our pure python approach\n",
    "    * Wrestling with and reading files\n",
    "    * Deciding on a reader class\n",
    "    * Missing data & different types\n",
    "    * Writing loops to read data & compute aggregates\n",
    "* More productive ways to perform analysis\n",
    "    * If you've done a lot of python programming not SO bad, but slow\n",
    "    * If you're getting started it's a heavy lift to be productive"
   ],
   "metadata": {
    "collapsed": false,
    "pycharm": {
     "name": "#%% md\n"
    }
   }
  }
 ],
 "metadata": {
  "kernelspec": {
   "display_name": "Python 3",
   "language": "python",
   "name": "python3"
  },
  "language_info": {
   "codemirror_mode": {
    "name": "ipython",
    "version": 2
   },
   "file_extension": ".py",
   "mimetype": "text/x-python",
   "name": "python",
   "nbconvert_exporter": "python",
   "pygments_lexer": "ipython2",
   "version": "2.7.6"
  }
 },
 "nbformat": 4,
 "nbformat_minor": 0
}